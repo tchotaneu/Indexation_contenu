{
  "nbformat": 4,
  "nbformat_minor": 0,
  "metadata": {
    "colab": {
      "provenance": [],
      "authorship_tag": "ABX9TyOX/B9aQ66Kfz3MYWSq4TMB",
      "include_colab_link": true
    },
    "kernelspec": {
      "name": "python3",
      "display_name": "Python 3"
    },
    "language_info": {
      "name": "python"
    }
  },
  "cells": [
    {
      "cell_type": "markdown",
      "metadata": {
        "id": "view-in-github",
        "colab_type": "text"
      },
      "source": [
        "<a href=\"https://colab.research.google.com/github/tchotaneu/Indexation_contenu/blob/main/search_engine.ipynb\" target=\"_parent\"><img src=\"https://colab.research.google.com/assets/colab-badge.svg\" alt=\"Open In Colab\"/></a>"
      ]
    },
    {
      "cell_type": "markdown",
      "source": [
        "# TRAVAUX PRATIQUE : **Construition d'un Moteur de Recherche**"
      ],
      "metadata": {
        "id": "c2PpnRcxDkZQ"
      }
    },
    {
      "cell_type": "markdown",
      "source": [
        "# **Objectifs**\n",
        "1. *Construire un index*\n",
        "2. *Représenter un ensemble des documents*\n",
        "3. *Tokenizer un texte*\n",
        "4. *Représenter un ensemble de documents avec TF-IDF*\n",
        "5. *Calcul de similarité cosinus*\n",
        "6. *Classement par pertinence*\n",
        "\n",
        "\n",
        "\n",
        "\n"
      ],
      "metadata": {
        "id": "OQPkhevEENaA"
      }
    },
    {
      "cell_type": "markdown",
      "source": [
        "**Nb**: un index permet à un ***Moteur de Recherche*** de mettre en relation une ***requête*** et les ***documents*** associes à  cette requête\n",
        "\n",
        "\n",
        "*    comment  comment indexer un corpus de documents?\n",
        "*    comment associer une requeête à des documents ?\n",
        "*    comment ranger les documents dans un ordre décroissant de pertinence?"
      ],
      "metadata": {
        "id": "3COu-mWkFTJQ"
      }
    },
    {
      "cell_type": "markdown",
      "source": [
        "**Travaux Pratique 1 : Construire un index**"
      ],
      "metadata": {
        "id": "SS-tAXjSBXUJ"
      }
    },
    {
      "cell_type": "code",
      "source": [
        "#importation des bibotheque \n",
        "import os \n",
        "import glob"
      ],
      "metadata": {
        "id": "OrPk1sQtI6SA"
      },
      "execution_count": 1,
      "outputs": []
    },
    {
      "cell_type": "code",
      "source": [
        "#importation du dossier contenant le documents du corpus \n",
        "!gdown --id 1AsTssmUT9ai0e0xh1hLJcLS0CpWCV3a9"
      ],
      "metadata": {
        "colab": {
          "base_uri": "https://localhost:8080/"
        },
        "id": "nZo6gK1DPSVw",
        "outputId": "30ffa792-70fb-46db-9294-5cb92995dcd6"
      },
      "execution_count": 2,
      "outputs": [
        {
          "output_type": "stream",
          "name": "stdout",
          "text": [
            "/usr/local/lib/python3.7/dist-packages/gdown/cli.py:131: FutureWarning: Option `--id` was deprecated in version 4.3.1 and will be removed in 5.0. You don't need to pass it anymore to use a file ID.\n",
            "  category=FutureWarning,\n",
            "Downloading...\n",
            "From: https://drive.google.com/uc?id=1AsTssmUT9ai0e0xh1hLJcLS0CpWCV3a9\n",
            "To: /content/documents.zip\n",
            "100% 44.9M/44.9M [00:00<00:00, 217MB/s]\n"
          ]
        }
      ]
    },
    {
      "cell_type": "code",
      "source": [
        "# dézipper le fichier documents.zip \n",
        "!unzip /content/documents.zip"
      ],
      "metadata": {
        "colab": {
          "base_uri": "https://localhost:8080/"
        },
        "id": "_LsWheiFRfJA",
        "outputId": "3c478fe4-740e-4483-daef-36432660e068"
      },
      "execution_count": 3,
      "outputs": [
        {
          "output_type": "stream",
          "name": "stdout",
          "text": [
            "Archive:  /content/documents.zip\n",
            "replace document/ep-00-01-17-fr.txt? [y]es, [n]o, [A]ll, [N]one, [r]ename: A\n",
            "  inflating: document/ep-00-01-17-fr.txt  \n",
            "  inflating: document/ep-00-01-18-fr.txt  \n",
            "  inflating: document/ep-00-01-19-fr.txt  \n",
            "  inflating: document/ep-00-01-20-fr.txt  \n",
            "  inflating: document/ep-00-01-21-fr.txt  \n",
            "  inflating: document/ep-00-02-02-fr.txt  \n",
            "  inflating: document/ep-00-02-03-fr.txt  \n",
            "  inflating: document/ep-00-02-14-fr.txt  \n",
            "  inflating: document/ep-00-02-15-fr.txt  \n",
            "  inflating: document/ep-00-02-16-fr.txt  \n",
            "  inflating: document/ep-00-02-17-fr.txt  \n",
            "  inflating: document/ep-00-02-18-fr.txt  \n",
            "  inflating: document/ep-00-03-01-fr.txt  \n",
            "  inflating: document/ep-00-03-02-fr.txt  \n",
            "  inflating: document/ep-00-03-13-fr.txt  \n",
            "  inflating: document/ep-00-03-14-fr.txt  \n",
            "  inflating: document/ep-00-03-15-fr.txt  \n",
            "  inflating: document/ep-00-03-16-fr.txt  \n",
            "  inflating: document/ep-00-03-17-fr.txt  \n",
            "  inflating: document/ep-00-03-29-fr.txt  \n",
            "  inflating: document/ep-00-03-30-fr.txt  \n",
            "  inflating: document/ep-00-04-10-fr.txt  \n",
            "  inflating: document/ep-00-04-11-fr.txt  \n",
            "  inflating: document/ep-00-04-12-fr.txt  \n",
            "  inflating: document/ep-00-04-13-fr.txt  \n",
            "  inflating: document/ep-00-04-14-fr.txt  \n",
            "  inflating: document/ep-00-05-03-fr.txt  \n",
            "  inflating: document/ep-00-05-04-fr.txt  \n",
            "  inflating: document/ep-00-05-15-fr.txt  \n",
            "  inflating: document/ep-00-05-16-fr.txt  \n",
            "  inflating: document/ep-00-05-17-fr.txt  \n",
            "  inflating: document/ep-00-05-18-fr.txt  \n",
            "  inflating: document/ep-00-05-19-fr.txt  \n",
            "  inflating: document/ep-00-06-13-fr.txt  \n",
            "  inflating: document/ep-00-06-14-fr.txt  \n",
            "  inflating: document/ep-00-06-15-fr.txt  \n",
            "  inflating: document/ep-00-06-16-fr.txt  \n",
            "  inflating: document/ep-00-07-03-fr.txt  \n",
            "  inflating: document/ep-00-07-04-fr.txt  \n",
            "  inflating: document/ep-00-07-05-fr.txt  \n",
            "  inflating: document/ep-00-07-06-fr.txt  \n",
            "  inflating: document/ep-00-07-07-fr.txt  \n",
            "  inflating: document/ep-00-09-04-fr.txt  \n",
            "  inflating: document/ep-00-09-05-fr.txt  \n",
            "  inflating: document/ep-00-09-06-fr.txt  \n",
            "  inflating: document/ep-00-09-07-fr.txt  \n",
            "  inflating: document/ep-00-09-08-fr.txt  \n",
            "  inflating: document/ep-00-09-20-fr.txt  \n",
            "  inflating: document/ep-00-09-21-fr.txt  \n",
            "  inflating: document/ep-00-10-02-fr.txt  \n",
            "  inflating: document/ep-00-10-03-fr.txt  \n",
            "  inflating: document/ep-00-10-04-fr.txt  \n",
            "  inflating: document/ep-00-10-05-fr.txt  \n",
            "  inflating: document/ep-00-10-06-fr.txt  \n",
            "  inflating: document/ep-00-10-23-fr.txt  \n",
            "  inflating: document/ep-00-10-24-fr.txt  \n",
            "  inflating: document/ep-00-10-25-fr.txt  \n",
            "  inflating: document/ep-00-10-26-fr.txt  \n",
            "  inflating: document/ep-00-10-27-fr.txt  \n",
            "  inflating: document/ep-00-11-13-fr.txt  \n",
            "  inflating: document/ep-00-11-14-fr.txt  \n",
            "  inflating: document/ep-00-11-15-fr.txt  \n",
            "  inflating: document/ep-00-11-16-fr.txt  \n",
            "  inflating: document/ep-00-11-17-fr.txt  \n",
            "  inflating: document/ep-00-11-29-fr.txt  \n",
            "  inflating: document/ep-00-11-30-fr.txt  \n",
            "  inflating: document/ep-00-12-11-fr.txt  \n",
            "  inflating: document/ep-00-12-12-fr.txt  \n",
            "  inflating: document/ep-00-12-13-fr.txt  \n",
            "  inflating: document/ep-00-12-14-fr.txt  \n",
            "  inflating: document/ep-00-12-15-fr.txt  \n",
            "  inflating: document/ep-01-01-15-fr.txt  \n",
            "  inflating: document/ep-01-01-16-fr.txt  \n",
            "  inflating: document/ep-01-01-17-fr.txt  \n",
            "  inflating: document/ep-01-01-18-fr.txt  \n",
            "  inflating: document/ep-01-01-31-fr.txt  \n",
            "  inflating: document/ep-01-02-01-fr.txt  \n",
            "  inflating: document/ep-01-02-12-fr.txt  \n",
            "  inflating: document/ep-01-02-13-fr.txt  \n",
            "  inflating: document/ep-01-02-14-fr.txt  \n",
            "  inflating: document/ep-01-02-15-fr.txt  \n",
            "  inflating: document/ep-01-02-28-fr.txt  \n",
            "  inflating: document/ep-01-03-01-fr.txt  \n",
            "  inflating: document/ep-01-03-12-fr.txt  \n",
            "  inflating: document/ep-01-03-13-fr.txt  \n",
            "  inflating: document/ep-01-03-14-fr.txt  \n",
            "  inflating: document/ep-01-03-15-fr.txt  \n",
            "  inflating: document/ep-01-04-02-fr.txt  \n",
            "  inflating: document/ep-01-04-03-fr.txt  \n",
            "  inflating: document/ep-01-04-04-fr.txt  \n",
            "  inflating: document/ep-01-04-05-fr.txt  \n",
            "  inflating: document/ep-01-05-02-fr.txt  \n",
            "  inflating: document/ep-01-05-03-fr.txt  \n",
            "  inflating: document/ep-01-05-14-fr.txt  \n",
            "  inflating: document/ep-01-05-16-fr.txt  \n",
            "  inflating: document/ep-01-05-17-fr.txt  \n",
            "  inflating: document/ep-01-05-30-fr.txt  \n",
            "  inflating: document/ep-01-05-31-fr.txt  \n",
            "  inflating: document/ep-01-06-11-fr.txt  \n",
            "  inflating: document/ep-01-06-12-fr.txt  \n",
            "  inflating: document/ep-01-06-13-fr.txt  \n",
            "  inflating: document/ep-01-06-14-fr.txt  \n",
            "  inflating: document/ep-01-07-02-fr.txt  \n",
            "  inflating: document/ep-01-07-03-fr.txt  \n",
            "  inflating: document/ep-01-07-04-fr.txt  \n",
            "  inflating: document/ep-01-07-05-fr.txt  \n",
            "  inflating: document/ep-01-09-03-fr.txt  \n",
            "  inflating: document/ep-01-09-04-fr.txt  \n",
            "  inflating: document/ep-01-09-05-fr.txt  \n",
            "  inflating: document/ep-01-09-06-fr.txt  \n",
            "  inflating: document/ep-01-09-12-fr.txt  \n",
            "  inflating: document/ep-01-09-19-fr.txt  \n",
            "  inflating: document/ep-01-09-20-fr.txt  \n",
            "  inflating: document/ep-01-10-01-fr.txt  \n",
            "  inflating: document/ep-01-10-02-fr.txt  \n",
            "  inflating: document/ep-01-10-03-fr.txt  \n",
            "  inflating: document/ep-01-10-04-fr.txt  \n",
            "  inflating: document/ep-01-10-22-fr.txt  \n",
            "  inflating: document/ep-01-10-23-fr.txt  \n",
            "  inflating: document/ep-01-10-24-fr.txt  \n",
            "  inflating: document/ep-01-10-25-fr.txt  \n",
            "  inflating: document/ep-01-11-12-fr.txt  \n",
            "  inflating: document/ep-01-11-13-fr.txt  \n",
            "  inflating: document/ep-01-11-14-fr.txt  \n",
            "  inflating: document/ep-01-11-15-fr.txt  \n",
            "  inflating: document/ep-01-11-28-fr.txt  \n",
            "  inflating: document/ep-01-11-29-fr.txt  \n",
            "  inflating: document/ep-01-12-10-fr.txt  \n",
            "  inflating: document/ep-01-12-11-fr.txt  \n",
            "  inflating: document/ep-01-12-12-fr.txt  \n",
            "  inflating: document/ep-01-12-13-fr.txt  \n",
            "  inflating: document/ep-01-12-17-fr.txt  \n",
            "  inflating: document/ep-02-01-14-fr.txt  \n",
            "  inflating: document/ep-02-01-15-fr.txt  \n",
            "  inflating: document/ep-02-01-16-fr.txt  \n",
            "  inflating: document/ep-02-01-17-fr.txt  \n",
            "  inflating: document/ep-02-02-04-fr.txt  \n",
            "  inflating: document/ep-02-02-05-fr.txt  \n",
            "  inflating: document/ep-02-02-06-fr.txt  \n",
            "  inflating: document/ep-02-02-07-fr.txt  \n",
            "  inflating: document/ep-02-02-27-fr.txt  \n",
            "  inflating: document/ep-02-02-28-fr.txt  \n",
            "  inflating: document/ep-02-03-11-fr.txt  \n",
            "  inflating: document/ep-02-03-12-fr.txt  \n",
            "  inflating: document/ep-02-03-13-fr.txt  \n",
            "  inflating: document/ep-02-03-14-fr.txt  \n",
            "  inflating: document/ep-02-03-20-fr.txt  \n",
            "  inflating: document/ep-02-04-08-fr.txt  \n",
            "  inflating: document/ep-02-04-09-fr.txt  \n",
            "  inflating: document/ep-02-04-10-fr.txt  \n",
            "  inflating: document/ep-02-04-11-fr.txt  \n",
            "  inflating: document/ep-02-04-24-fr.txt  \n",
            "  inflating: document/ep-02-04-25-fr.txt  \n",
            "  inflating: document/ep-02-05-13-fr.txt  \n",
            "  inflating: document/ep-02-05-14-fr.txt  \n",
            "  inflating: document/ep-02-05-15-fr.txt  \n",
            "  inflating: document/ep-02-05-16-fr.txt  \n",
            "  inflating: document/ep-02-05-29-fr.txt  \n",
            "  inflating: document/ep-02-05-30-fr.txt  \n",
            "  inflating: document/ep-02-06-10-fr.txt  \n",
            "  inflating: document/ep-02-06-11-fr.txt  \n",
            "  inflating: document/ep-02-06-12-fr.txt  \n",
            "  inflating: document/ep-02-06-13-fr.txt  \n",
            "  inflating: document/ep-02-07-01-fr.txt  \n",
            "  inflating: document/ep-02-07-02-fr.txt  \n",
            "  inflating: document/ep-02-07-03-fr.txt  \n",
            "  inflating: document/ep-02-07-04-fr.txt  \n",
            "  inflating: document/ep-02-09-02-fr.txt  \n",
            "  inflating: document/ep-02-09-03-fr.txt  \n",
            "  inflating: document/ep-02-09-04-fr.txt  \n",
            "  inflating: document/ep-02-09-05-fr.txt  \n",
            "  inflating: document/ep-02-09-23-fr.txt  \n",
            "  inflating: document/ep-02-09-24-fr.txt  \n",
            "  inflating: document/ep-02-09-25-fr.txt  \n",
            "  inflating: document/ep-02-09-26-fr.txt  \n",
            "  inflating: document/ep-02-10-09-fr.txt  \n",
            "  inflating: document/ep-02-10-10-fr.txt  \n",
            "  inflating: document/ep-02-10-21-fr.txt  \n",
            "  inflating: document/ep-02-10-22-fr.txt  \n",
            "  inflating: document/ep-02-10-23-fr.txt  \n",
            "  inflating: document/ep-02-10-24-fr.txt  \n",
            "  inflating: document/ep-02-11-06-fr.txt  \n",
            "  inflating: document/ep-02-11-18-fr.txt  \n",
            "  inflating: document/ep-02-11-19-fr.txt  \n",
            "  inflating: document/ep-02-11-20-fr.txt  \n",
            "  inflating: document/ep-02-11-21-fr.txt  \n",
            "  inflating: document/ep-02-12-04-fr.txt  \n",
            "  inflating: document/ep-02-12-05-fr.txt  \n",
            "  inflating: document/ep-02-12-16-fr.txt  \n",
            "  inflating: document/ep-02-12-17-fr.txt  \n",
            "  inflating: document/ep-02-12-18-fr.txt  \n",
            "  inflating: document/ep-02-12-19-fr.txt  \n",
            "  inflating: document/ep-03-01-13-fr.txt  \n",
            "  inflating: document/ep-03-01-14-fr.txt  \n",
            "  inflating: document/ep-03-01-15-fr.txt  \n",
            "  inflating: document/ep-03-01-16-fr.txt  \n",
            "  inflating: document/ep-03-01-29-fr.txt  \n",
            "  inflating: document/ep-03-01-30-fr.txt  \n",
            "  inflating: document/ep-03-02-10-fr.txt  \n",
            "  inflating: document/ep-03-02-11-fr.txt  \n",
            "  inflating: document/ep-03-02-12-fr.txt  \n",
            "  inflating: document/ep-03-02-13-fr.txt  \n",
            "  inflating: document/ep-03-03-10-fr.txt  \n",
            "  inflating: document/ep-03-03-11-fr.txt  \n",
            "  inflating: document/ep-03-03-12-fr.txt  \n",
            "  inflating: document/ep-03-03-13-fr.txt  \n",
            "  inflating: document/ep-03-03-20-fr.txt  \n",
            "  inflating: document/ep-03-03-26-fr.txt  \n",
            "  inflating: document/ep-03-03-27-fr.txt  \n",
            "  inflating: document/ep-03-04-07-fr.txt  \n",
            "  inflating: document/ep-03-04-08-fr.txt  \n",
            "  inflating: document/ep-03-04-09-fr.txt  \n",
            "  inflating: document/ep-03-04-10-fr.txt  \n",
            "  inflating: document/ep-03-05-12-fr.txt  \n",
            "  inflating: document/ep-03-05-13-fr.txt  \n",
            "  inflating: document/ep-03-05-14-fr.txt  \n",
            "  inflating: document/ep-03-05-15-fr.txt  \n",
            "  inflating: document/ep-03-06-02-fr.txt  \n",
            "  inflating: document/ep-03-06-03-fr.txt  \n",
            "  inflating: document/ep-03-06-04-fr.txt  \n",
            "  inflating: document/ep-03-06-05-fr.txt  \n",
            "  inflating: document/ep-03-06-18-fr.txt  \n",
            "  inflating: document/ep-03-06-19-fr.txt  \n",
            "  inflating: document/ep-03-06-30-fr.txt  \n",
            "  inflating: document/ep-03-07-01-fr.txt  \n",
            "  inflating: document/ep-03-07-02-fr.txt  \n",
            "  inflating: document/ep-03-07-03-fr.txt  \n",
            "  inflating: document/ep-03-09-01-fr.txt  \n",
            "  inflating: document/ep-03-09-02-fr.txt  \n",
            "  inflating: document/ep-03-09-03-fr.txt  \n",
            "  inflating: document/ep-03-09-04-fr.txt  \n",
            "  inflating: document/ep-03-09-22-fr.txt  \n",
            "  inflating: document/ep-03-09-23-fr.txt  \n",
            "  inflating: document/ep-03-09-24-fr.txt  \n",
            "  inflating: document/ep-03-09-25-fr.txt  \n",
            "  inflating: document/ep-03-10-08-fr.txt  \n",
            "  inflating: document/ep-03-10-09-fr.txt  \n",
            "  inflating: document/ep-03-10-20-fr.txt  \n",
            "  inflating: document/ep-03-10-21-fr.txt  \n",
            "  inflating: document/ep-03-10-22-fr.txt  \n",
            "  inflating: document/ep-03-10-23-fr.txt  \n",
            "  inflating: document/ep-03-11-05-fr.txt  \n",
            "  inflating: document/ep-03-11-06-fr.txt  \n",
            "  inflating: document/ep-03-11-17-fr.txt  \n",
            "  inflating: document/ep-03-11-18-fr.txt  \n",
            "  inflating: document/ep-03-11-19-fr.txt  \n",
            "  inflating: document/ep-03-11-20-fr.txt  \n",
            "  inflating: document/ep-03-12-03-fr.txt  \n",
            "  inflating: document/ep-03-12-04-fr.txt  \n",
            "  inflating: document/ep-03-12-15-fr.txt  \n",
            "  inflating: document/ep-03-12-16-fr.txt  \n",
            "  inflating: document/ep-03-12-17-fr.txt  \n",
            "  inflating: document/ep-03-12-18-fr.txt  \n",
            "  inflating: document/ep-04-01-12-fr.txt  \n",
            "  inflating: document/ep-04-01-13-fr.txt  \n",
            "  inflating: document/ep-04-01-14-fr.txt  \n",
            "  inflating: document/ep-04-01-15-fr.txt  \n",
            "  inflating: document/ep-04-01-28-fr.txt  \n",
            "  inflating: document/ep-04-01-29-fr.txt  \n",
            "  inflating: document/ep-04-02-09-fr.txt  \n",
            "  inflating: document/ep-04-02-10-fr.txt  \n",
            "  inflating: document/ep-04-02-11-fr.txt  \n",
            "  inflating: document/ep-04-02-12-fr.txt  \n",
            "  inflating: document/ep-04-02-25-fr.txt  \n",
            "  inflating: document/ep-04-02-26-fr.txt  \n",
            "  inflating: document/ep-04-03-08-fr.txt  \n",
            "  inflating: document/ep-04-03-09-fr.txt  \n",
            "  inflating: document/ep-04-03-10-fr.txt  \n",
            "  inflating: document/ep-04-03-11-fr.txt  \n",
            "  inflating: document/ep-04-03-29-fr.txt  \n",
            "  inflating: document/ep-04-03-30-fr.txt  \n",
            "  inflating: document/ep-04-03-31-fr.txt  \n",
            "  inflating: document/ep-04-04-01-fr.txt  \n",
            "  inflating: document/ep-04-04-19-fr.txt  \n",
            "  inflating: document/ep-04-04-20-fr.txt  \n",
            "  inflating: document/ep-04-04-21-fr.txt  \n",
            "  inflating: document/ep-04-04-22-fr.txt  \n",
            "  inflating: document/ep-04-05-03-fr.txt  \n",
            "  inflating: document/ep-04-05-04-fr.txt  \n",
            "  inflating: document/ep-04-05-05-fr.txt  \n",
            "  inflating: document/ep-04-07-20-fr.txt  \n",
            "  inflating: document/ep-04-07-21-fr.txt  \n",
            "  inflating: document/ep-04-07-22-fr.txt  \n",
            "  inflating: document/ep-04-09-13-fr.txt  \n",
            "  inflating: document/ep-04-09-14-fr.txt  \n",
            "  inflating: document/ep-04-09-15-fr.txt  \n",
            "  inflating: document/ep-04-09-16-fr.txt  \n",
            "  inflating: document/ep-04-10-13-fr.txt  \n",
            "  inflating: document/ep-04-10-14-fr.txt  \n",
            "  inflating: document/ep-04-10-25-fr.txt  \n",
            "  inflating: document/ep-04-10-26-fr.txt  \n",
            "  inflating: document/ep-04-10-27-fr.txt  \n",
            "  inflating: document/ep-04-10-28-fr.txt  \n",
            "  inflating: document/ep-04-11-15-fr.txt  \n",
            "  inflating: document/ep-04-11-16-fr.txt  \n",
            "  inflating: document/ep-04-11-17-fr.txt  \n",
            "  inflating: document/ep-04-11-18-fr.txt  \n",
            "  inflating: document/ep-04-12-01-fr.txt  \n",
            "  inflating: document/ep-04-12-02-fr.txt  \n",
            "  inflating: document/ep-04-12-13-fr.txt  \n",
            "  inflating: document/ep-04-12-14-fr.txt  \n",
            "  inflating: document/ep-04-12-15-fr.txt  \n",
            "  inflating: document/ep-04-12-16-fr.txt  \n",
            "  inflating: document/ep-05-01-10-fr.txt  \n",
            "  inflating: document/ep-05-01-11-fr.txt  \n",
            "  inflating: document/ep-05-01-12-fr.txt  \n",
            "  inflating: document/ep-05-01-13-fr.txt  \n",
            "  inflating: document/ep-05-01-26-fr.txt  \n",
            "  inflating: document/ep-05-01-27-fr.txt  \n",
            "  inflating: document/ep-05-02-21-fr.txt  \n",
            "  inflating: document/ep-05-02-22-fr.txt  \n",
            "  inflating: document/ep-05-02-23-fr.txt  \n",
            "  inflating: document/ep-05-02-24-fr.txt  \n",
            "  inflating: document/ep-05-03-07-fr.txt  \n",
            "  inflating: document/ep-05-03-08-fr.txt  \n",
            "  inflating: document/ep-05-03-09-fr.txt  \n",
            "  inflating: document/ep-05-03-10-fr.txt  \n",
            "  inflating: document/ep-05-04-11-fr.txt  \n",
            "  inflating: document/ep-05-04-12-fr.txt  \n",
            "  inflating: document/ep-05-04-13-fr.txt  \n",
            "  inflating: document/ep-05-04-14-fr.txt  \n",
            "  inflating: document/ep-05-04-27-fr.txt  \n",
            "  inflating: document/ep-05-04-28-fr.txt  \n",
            "  inflating: document/ep-05-05-09-fr.txt  \n",
            "  inflating: document/ep-05-05-10-fr.txt  \n",
            "  inflating: document/ep-05-05-11-fr.txt  \n",
            "  inflating: document/ep-05-05-12-fr.txt  \n",
            "  inflating: document/ep-05-05-25-fr.txt  \n",
            "  inflating: document/ep-05-05-26-fr.txt  \n",
            "  inflating: document/ep-05-06-06-fr.txt  \n",
            "  inflating: document/ep-05-06-07-fr.txt  \n",
            "  inflating: document/ep-05-06-08-fr.txt  \n",
            "  inflating: document/ep-05-06-09-fr.txt  \n",
            "  inflating: document/ep-05-06-22-fr.txt  \n",
            "  inflating: document/ep-05-06-23-fr.txt  \n",
            "  inflating: document/ep-05-07-04-fr.txt  \n",
            "  inflating: document/ep-05-07-05-fr.txt  \n",
            "  inflating: document/ep-05-07-06-fr.txt  \n",
            "  inflating: document/ep-05-07-07-fr.txt  \n",
            "  inflating: document/ep-05-09-05-fr.txt  \n",
            "  inflating: document/ep-05-09-06-fr.txt  \n",
            "  inflating: document/ep-05-09-07-fr.txt  \n",
            "  inflating: document/ep-05-09-08-fr.txt  \n",
            "  inflating: document/ep-05-09-26-fr.txt  \n",
            "  inflating: document/ep-05-09-27-fr.txt  \n",
            "  inflating: document/ep-05-09-28-fr.txt  \n",
            "  inflating: document/ep-05-09-29-fr.txt  \n",
            "  inflating: document/ep-05-10-12-fr.txt  \n",
            "  inflating: document/ep-05-10-13-fr.txt  \n",
            "  inflating: document/ep-05-10-24-fr.txt  \n",
            "  inflating: document/ep-05-10-25-fr.txt  \n",
            "  inflating: document/ep-05-10-26-fr.txt  \n",
            "  inflating: document/ep-05-10-27-fr.txt  \n",
            "  inflating: document/ep-05-11-14-fr.txt  \n",
            "  inflating: document/ep-05-11-15-fr.txt  \n",
            "  inflating: document/ep-05-11-16-fr.txt  \n",
            "  inflating: document/ep-05-11-17-fr.txt  \n",
            "  inflating: document/ep-05-11-30-fr.txt  \n",
            "  inflating: document/ep-05-12-01-fr.txt  \n",
            "  inflating: document/ep-05-12-12-fr.txt  \n",
            "  inflating: document/ep-05-12-13-fr.txt  \n",
            "  inflating: document/ep-05-12-14-fr.txt  \n",
            "  inflating: document/ep-05-12-15-fr.txt  \n"
          ]
        }
      ]
    },
    {
      "cell_type": "code",
      "source": [
        "# Supprimer le fichier zippé documents.zip pour liberer la memoire sur google coolab \n",
        "!rm -r /content/documents.zip "
      ],
      "metadata": {
        "id": "2c4x_8qtSAP3"
      },
      "execution_count": 4,
      "outputs": []
    },
    {
      "cell_type": "code",
      "source": [
        "#chemin=os.listdir(\"document\")\n",
        "#print(chemin)\n",
        "#len(chemin)"
      ],
      "metadata": {
        "id": "QCzKU3XEWkUY"
      },
      "execution_count": 5,
      "outputs": []
    },
    {
      "cell_type": "code",
      "source": [
        "#definition des fonction \n",
        "def lire_fichier(chemin1):\n",
        "  fichier = open(chemin1 , encoding=\"utf8\")\n",
        "  contenu = fichier.read()\n",
        "  fichier.close()\n",
        "  return contenu\n",
        "def  decouper_mots(chaine):\n",
        "  return chaine.split(' ')"
      ],
      "metadata": {
        "id": "i8vSZ01qIgTY"
      },
      "execution_count": 6,
      "outputs": []
    },
    {
      "cell_type": "code",
      "source": [
        "index = {}\n",
        "for chemin1 in glob.glob(\"document/*.*\"):\n",
        "    chaine = lire_fichier(chemin1)\n",
        "    mots = decouper_mots(chaine)\n",
        "    for mot in mots:\n",
        "      if mot not in index:\n",
        "        index[mot] = set()     # pour eviter les doublons \n",
        "      index[mot].add(chemin1)"
      ],
      "metadata": {
        "id": "Y9jRx_eNLQWJ"
      },
      "execution_count": 9,
      "outputs": []
    },
    {
      "cell_type": "code",
      "source": [
        "print(len(index),\"cles de mots dans le dictionnaire \")# taille de l'index c'est a dire la taille du dictionnaire \n",
        "print(list(index.keys())[:50]) # affichage des 50 premieres clés du dictionnaires \n",
        "print(index[\"indique\"]) # document qui contient le mots \"indique\""
      ],
      "metadata": {
        "colab": {
          "base_uri": "https://localhost:8080/"
        },
        "id": "qkVst4pWfdJ5",
        "outputId": "9fba345f-4076-4a13-c399-84350f371bde"
      },
      "execution_count": 10,
      "outputs": [
        {
          "output_type": "stream",
          "name": "stdout",
          "text": [
            "266516 cles de mots dans le dictionnaire \n",
            "['\\n\\n', '', '\\n', 'Chemins', 'de', 'fer', 'communautaires\\n', \"L'ordre\", 'du', 'jour', 'appelle', 'au', 'nom', 'la', 'commission', 'politique', 'régionale,', 'des', 'transports', 'et', 'tourisme', 'discussion', 'commune', 'sur', 'les', 'quatre', 'rapports', 'suivants', ':\\n', 'A5-0417/2002,', 'M.', 'Georg', 'Jarzembowski,', 'proposition', 'directive', 'Parlement', 'européen', 'Conseil', 'portant', 'modification', '91/440/CEE', 'relative', 'développement', 'chemins', 'communautaires', '[COM(2002)', '25', '-', 'C5-0038/2002', '2002/25(COD)]']\n",
            "{'document/ep-03-02-12-fr.txt', 'document/ep-04-11-17-fr.txt', 'document/ep-02-10-22-fr.txt', 'document/ep-03-04-07-fr.txt', 'document/ep-05-07-06-fr.txt', 'document/ep-00-03-17-fr.txt', 'document/ep-01-02-15-fr.txt', 'document/ep-03-10-09-fr.txt', 'document/ep-05-10-24-fr.txt', 'document/ep-02-05-16-fr.txt', 'document/ep-05-12-01-fr.txt', 'document/ep-03-11-05-fr.txt', 'document/ep-01-11-29-fr.txt', 'document/ep-04-04-20-fr.txt', 'document/ep-03-07-01-fr.txt', 'document/ep-01-01-16-fr.txt', 'document/ep-05-04-13-fr.txt', 'document/ep-01-09-03-fr.txt', 'document/ep-04-02-11-fr.txt', 'document/ep-02-01-16-fr.txt', 'document/ep-00-01-21-fr.txt', 'document/ep-01-02-28-fr.txt', 'document/ep-04-12-14-fr.txt', 'document/ep-01-06-12-fr.txt', 'document/ep-04-02-10-fr.txt', 'document/ep-03-01-13-fr.txt', 'document/ep-00-03-29-fr.txt', 'document/ep-05-06-08-fr.txt', 'document/ep-00-04-13-fr.txt', 'document/ep-03-10-08-fr.txt', 'document/ep-03-03-12-fr.txt', 'document/ep-02-01-17-fr.txt', 'document/ep-01-09-06-fr.txt', 'document/ep-03-09-23-fr.txt', 'document/ep-03-01-30-fr.txt', 'document/ep-00-10-24-fr.txt', 'document/ep-02-09-04-fr.txt', 'document/ep-00-03-15-fr.txt', 'document/ep-00-07-07-fr.txt', 'document/ep-03-12-16-fr.txt', 'document/ep-05-02-23-fr.txt', 'document/ep-00-09-21-fr.txt', 'document/ep-04-12-15-fr.txt', 'document/ep-01-10-23-fr.txt', 'document/ep-03-01-16-fr.txt', 'document/ep-05-03-10-fr.txt', 'document/ep-04-04-21-fr.txt', 'document/ep-00-07-06-fr.txt', 'document/ep-04-12-02-fr.txt', 'document/ep-04-07-20-fr.txt', 'document/ep-00-11-17-fr.txt', 'document/ep-00-01-17-fr.txt', 'document/ep-02-11-18-fr.txt', 'document/ep-00-06-14-fr.txt', 'document/ep-03-11-06-fr.txt', 'document/ep-00-12-13-fr.txt', 'document/ep-03-10-20-fr.txt', 'document/ep-00-03-16-fr.txt', 'document/ep-05-05-12-fr.txt', 'document/ep-03-01-14-fr.txt', 'document/ep-03-05-13-fr.txt', 'document/ep-00-10-03-fr.txt', 'document/ep-01-05-03-fr.txt', 'document/ep-02-03-11-fr.txt', 'document/ep-05-07-07-fr.txt', 'document/ep-02-05-15-fr.txt', 'document/ep-02-05-30-fr.txt', 'document/ep-05-07-04-fr.txt', 'document/ep-04-10-28-fr.txt', 'document/ep-00-11-13-fr.txt', 'document/ep-05-09-28-fr.txt', 'document/ep-03-07-02-fr.txt', 'document/ep-00-02-14-fr.txt', 'document/ep-02-04-11-fr.txt', 'document/ep-02-06-11-fr.txt', 'document/ep-05-11-16-fr.txt', 'document/ep-01-11-28-fr.txt', 'document/ep-00-09-04-fr.txt', 'document/ep-03-07-03-fr.txt', 'document/ep-01-10-24-fr.txt', 'document/ep-04-07-21-fr.txt', 'document/ep-03-11-19-fr.txt', 'document/ep-03-06-18-fr.txt', 'document/ep-05-04-14-fr.txt', 'document/ep-00-02-02-fr.txt', 'document/ep-03-02-13-fr.txt', 'document/ep-04-09-14-fr.txt', 'document/ep-00-02-15-fr.txt', 'document/ep-04-03-31-fr.txt', 'document/ep-05-09-05-fr.txt', 'document/ep-03-09-24-fr.txt', 'document/ep-04-10-14-fr.txt', 'document/ep-05-09-08-fr.txt', 'document/ep-05-10-27-fr.txt', 'document/ep-00-03-14-fr.txt', 'document/ep-00-11-14-fr.txt', 'document/ep-04-02-26-fr.txt', 'document/ep-00-09-20-fr.txt', 'document/ep-01-01-31-fr.txt', 'document/ep-04-11-18-fr.txt', 'document/ep-04-03-08-fr.txt', 'document/ep-04-01-15-fr.txt', 'document/ep-00-06-15-fr.txt', 'document/ep-00-03-30-fr.txt', 'document/ep-05-06-06-fr.txt', 'document/ep-00-03-01-fr.txt', 'document/ep-00-02-17-fr.txt', 'document/ep-02-12-17-fr.txt', 'document/ep-04-02-12-fr.txt', 'document/ep-04-01-28-fr.txt', 'document/ep-01-03-14-fr.txt', 'document/ep-03-12-15-fr.txt', 'document/ep-04-04-22-fr.txt', 'document/ep-05-12-13-fr.txt', 'document/ep-01-09-04-fr.txt', 'document/ep-01-02-12-fr.txt', 'document/ep-02-07-01-fr.txt', 'document/ep-01-05-30-fr.txt', 'document/ep-01-10-03-fr.txt', 'document/ep-01-05-31-fr.txt', 'document/ep-00-03-13-fr.txt', 'document/ep-02-12-19-fr.txt', 'document/ep-05-12-14-fr.txt', 'document/ep-05-10-25-fr.txt', 'document/ep-05-05-09-fr.txt', 'document/ep-00-05-04-fr.txt', 'document/ep-02-02-28-fr.txt', 'document/ep-00-05-19-fr.txt', 'document/ep-01-04-05-fr.txt', 'document/ep-03-10-21-fr.txt', 'document/ep-05-01-12-fr.txt', 'document/ep-05-10-12-fr.txt', 'document/ep-05-11-30-fr.txt', 'document/ep-03-04-08-fr.txt', 'document/ep-02-10-09-fr.txt', 'document/ep-03-09-03-fr.txt', 'document/ep-01-07-03-fr.txt', 'document/ep-01-02-14-fr.txt', 'document/ep-05-09-07-fr.txt', 'document/ep-01-06-13-fr.txt', 'document/ep-03-02-10-fr.txt', 'document/ep-05-02-22-fr.txt', 'document/ep-00-05-15-fr.txt', 'document/ep-04-01-14-fr.txt', 'document/ep-04-02-25-fr.txt', 'document/ep-05-05-11-fr.txt', 'document/ep-04-12-16-fr.txt', 'document/ep-00-05-16-fr.txt', 'document/ep-04-10-13-fr.txt', 'document/ep-02-06-12-fr.txt', 'document/ep-02-09-05-fr.txt', 'document/ep-01-10-04-fr.txt', 'document/ep-05-09-27-fr.txt', 'document/ep-04-03-09-fr.txt', 'document/ep-00-12-11-fr.txt', 'document/ep-03-11-17-fr.txt', 'document/ep-05-09-06-fr.txt', 'document/ep-01-07-04-fr.txt', 'document/ep-03-11-20-fr.txt', 'document/ep-04-09-16-fr.txt', 'document/ep-02-10-24-fr.txt', 'document/ep-00-12-12-fr.txt', 'document/ep-05-06-22-fr.txt', 'document/ep-00-01-18-fr.txt', 'document/ep-00-06-13-fr.txt', 'document/ep-01-06-14-fr.txt', 'document/ep-00-05-03-fr.txt', 'document/ep-03-12-03-fr.txt', 'document/ep-02-03-13-fr.txt', 'document/ep-02-11-06-fr.txt', 'document/ep-05-12-15-fr.txt', 'document/ep-00-06-16-fr.txt', 'document/ep-01-01-17-fr.txt', 'document/ep-00-02-16-fr.txt', 'document/ep-03-06-02-fr.txt', 'document/ep-05-01-26-fr.txt', 'document/ep-02-07-03-fr.txt', 'document/ep-05-07-05-fr.txt', 'document/ep-02-05-14-fr.txt', 'document/ep-04-02-09-fr.txt', 'document/ep-03-02-11-fr.txt', 'document/ep-02-09-26-fr.txt', 'document/ep-04-01-12-fr.txt', 'document/ep-01-10-25-fr.txt', 'document/ep-00-05-17-fr.txt', 'document/ep-05-05-10-fr.txt', 'document/ep-05-10-26-fr.txt', 'document/ep-05-02-21-fr.txt', 'document/ep-01-09-19-fr.txt', 'document/ep-01-12-11-fr.txt', 'document/ep-02-09-23-fr.txt', 'document/ep-02-09-24-fr.txt', 'document/ep-02-05-13-fr.txt', 'document/ep-04-01-13-fr.txt', 'document/ep-03-01-15-fr.txt', 'document/ep-05-03-09-fr.txt', 'document/ep-04-10-27-fr.txt', 'document/ep-00-10-25-fr.txt', 'document/ep-00-07-04-fr.txt', 'document/ep-01-11-13-fr.txt', 'document/ep-03-04-09-fr.txt', 'document/ep-05-04-28-fr.txt', 'document/ep-00-10-23-fr.txt', 'document/ep-03-06-04-fr.txt', 'document/ep-05-04-12-fr.txt', 'document/ep-05-09-29-fr.txt', 'document/ep-03-03-13-fr.txt', 'document/ep-03-06-03-fr.txt', 'document/ep-02-11-19-fr.txt', 'document/ep-03-09-25-fr.txt', 'document/ep-00-10-04-fr.txt', 'document/ep-00-01-20-fr.txt', 'document/ep-05-06-09-fr.txt', 'document/ep-03-09-02-fr.txt', 'document/ep-02-07-02-fr.txt', 'document/ep-01-07-02-fr.txt', 'document/ep-04-10-26-fr.txt', 'document/ep-02-04-09-fr.txt', 'document/ep-02-10-10-fr.txt', 'document/ep-00-10-05-fr.txt', 'document/ep-03-05-15-fr.txt', 'document/ep-05-03-08-fr.txt', 'document/ep-05-01-10-fr.txt', 'document/ep-00-05-18-fr.txt', 'document/ep-02-04-08-fr.txt', 'document/ep-02-12-05-fr.txt', 'document/ep-02-04-10-fr.txt', 'document/ep-01-04-03-fr.txt', 'document/ep-05-11-17-fr.txt', 'document/ep-00-11-15-fr.txt', 'document/ep-05-03-07-fr.txt', 'document/ep-01-04-04-fr.txt', 'document/ep-00-11-30-fr.txt', 'document/ep-01-03-01-fr.txt', 'document/ep-05-01-13-fr.txt', 'document/ep-02-02-06-fr.txt', 'document/ep-01-05-16-fr.txt', 'document/ep-01-02-13-fr.txt', 'document/ep-00-04-11-fr.txt', 'document/ep-01-09-05-fr.txt', 'document/ep-02-12-16-fr.txt', 'document/ep-00-09-06-fr.txt', 'document/ep-00-07-05-fr.txt', 'document/ep-02-11-20-fr.txt', 'document/ep-01-07-05-fr.txt', 'document/ep-04-03-29-fr.txt', 'document/ep-02-09-02-fr.txt', 'document/ep-05-06-07-fr.txt', 'document/ep-02-03-12-fr.txt', 'document/ep-03-05-14-fr.txt', 'document/ep-03-10-22-fr.txt', 'document/ep-04-03-10-fr.txt', 'document/ep-05-11-15-fr.txt', 'document/ep-05-01-11-fr.txt', 'document/ep-00-04-12-fr.txt', 'document/ep-01-10-02-fr.txt', 'document/ep-01-12-10-fr.txt', 'document/ep-03-03-11-fr.txt', 'document/ep-02-02-07-fr.txt', 'document/ep-02-04-25-fr.txt', 'document/ep-04-03-30-fr.txt', 'document/ep-00-11-16-fr.txt', 'document/ep-04-04-19-fr.txt', 'document/ep-02-10-21-fr.txt', 'document/ep-02-02-05-fr.txt', 'document/ep-03-03-10-fr.txt', 'document/ep-04-09-15-fr.txt'}\n"
          ]
        }
      ]
    },
    {
      "cell_type": "code",
      "source": [
        "print(index[\"indique\"])\n",
        "print(index[\"européenne\"])\n",
        "print(index[\"toto\"])"
      ],
      "metadata": {
        "colab": {
          "base_uri": "https://localhost:8080/"
        },
        "id": "4f-zJqFOxsv0",
        "outputId": "1256e4e1-b463-41cd-ab20-40ce0a645307"
      },
      "execution_count": 11,
      "outputs": [
        {
          "output_type": "stream",
          "name": "stdout",
          "text": [
            "{'document/ep-03-02-12-fr.txt', 'document/ep-04-11-17-fr.txt', 'document/ep-02-10-22-fr.txt', 'document/ep-03-04-07-fr.txt', 'document/ep-05-07-06-fr.txt', 'document/ep-00-03-17-fr.txt', 'document/ep-01-02-15-fr.txt', 'document/ep-03-10-09-fr.txt', 'document/ep-05-10-24-fr.txt', 'document/ep-02-05-16-fr.txt', 'document/ep-05-12-01-fr.txt', 'document/ep-03-11-05-fr.txt', 'document/ep-01-11-29-fr.txt', 'document/ep-04-04-20-fr.txt', 'document/ep-03-07-01-fr.txt', 'document/ep-01-01-16-fr.txt', 'document/ep-05-04-13-fr.txt', 'document/ep-01-09-03-fr.txt', 'document/ep-04-02-11-fr.txt', 'document/ep-02-01-16-fr.txt', 'document/ep-00-01-21-fr.txt', 'document/ep-01-02-28-fr.txt', 'document/ep-04-12-14-fr.txt', 'document/ep-01-06-12-fr.txt', 'document/ep-04-02-10-fr.txt', 'document/ep-03-01-13-fr.txt', 'document/ep-00-03-29-fr.txt', 'document/ep-05-06-08-fr.txt', 'document/ep-00-04-13-fr.txt', 'document/ep-03-10-08-fr.txt', 'document/ep-03-03-12-fr.txt', 'document/ep-02-01-17-fr.txt', 'document/ep-01-09-06-fr.txt', 'document/ep-03-09-23-fr.txt', 'document/ep-03-01-30-fr.txt', 'document/ep-00-10-24-fr.txt', 'document/ep-02-09-04-fr.txt', 'document/ep-00-03-15-fr.txt', 'document/ep-00-07-07-fr.txt', 'document/ep-03-12-16-fr.txt', 'document/ep-05-02-23-fr.txt', 'document/ep-00-09-21-fr.txt', 'document/ep-04-12-15-fr.txt', 'document/ep-01-10-23-fr.txt', 'document/ep-03-01-16-fr.txt', 'document/ep-05-03-10-fr.txt', 'document/ep-04-04-21-fr.txt', 'document/ep-00-07-06-fr.txt', 'document/ep-04-12-02-fr.txt', 'document/ep-04-07-20-fr.txt', 'document/ep-00-11-17-fr.txt', 'document/ep-00-01-17-fr.txt', 'document/ep-02-11-18-fr.txt', 'document/ep-00-06-14-fr.txt', 'document/ep-03-11-06-fr.txt', 'document/ep-00-12-13-fr.txt', 'document/ep-03-10-20-fr.txt', 'document/ep-00-03-16-fr.txt', 'document/ep-05-05-12-fr.txt', 'document/ep-03-01-14-fr.txt', 'document/ep-03-05-13-fr.txt', 'document/ep-00-10-03-fr.txt', 'document/ep-01-05-03-fr.txt', 'document/ep-02-03-11-fr.txt', 'document/ep-05-07-07-fr.txt', 'document/ep-02-05-15-fr.txt', 'document/ep-02-05-30-fr.txt', 'document/ep-05-07-04-fr.txt', 'document/ep-04-10-28-fr.txt', 'document/ep-00-11-13-fr.txt', 'document/ep-05-09-28-fr.txt', 'document/ep-03-07-02-fr.txt', 'document/ep-00-02-14-fr.txt', 'document/ep-02-04-11-fr.txt', 'document/ep-02-06-11-fr.txt', 'document/ep-05-11-16-fr.txt', 'document/ep-01-11-28-fr.txt', 'document/ep-00-09-04-fr.txt', 'document/ep-03-07-03-fr.txt', 'document/ep-01-10-24-fr.txt', 'document/ep-04-07-21-fr.txt', 'document/ep-03-11-19-fr.txt', 'document/ep-03-06-18-fr.txt', 'document/ep-05-04-14-fr.txt', 'document/ep-00-02-02-fr.txt', 'document/ep-03-02-13-fr.txt', 'document/ep-04-09-14-fr.txt', 'document/ep-00-02-15-fr.txt', 'document/ep-04-03-31-fr.txt', 'document/ep-05-09-05-fr.txt', 'document/ep-03-09-24-fr.txt', 'document/ep-04-10-14-fr.txt', 'document/ep-05-09-08-fr.txt', 'document/ep-05-10-27-fr.txt', 'document/ep-00-03-14-fr.txt', 'document/ep-00-11-14-fr.txt', 'document/ep-04-02-26-fr.txt', 'document/ep-00-09-20-fr.txt', 'document/ep-01-01-31-fr.txt', 'document/ep-04-11-18-fr.txt', 'document/ep-04-03-08-fr.txt', 'document/ep-04-01-15-fr.txt', 'document/ep-00-06-15-fr.txt', 'document/ep-00-03-30-fr.txt', 'document/ep-05-06-06-fr.txt', 'document/ep-00-03-01-fr.txt', 'document/ep-00-02-17-fr.txt', 'document/ep-02-12-17-fr.txt', 'document/ep-04-02-12-fr.txt', 'document/ep-04-01-28-fr.txt', 'document/ep-01-03-14-fr.txt', 'document/ep-03-12-15-fr.txt', 'document/ep-04-04-22-fr.txt', 'document/ep-05-12-13-fr.txt', 'document/ep-01-09-04-fr.txt', 'document/ep-01-02-12-fr.txt', 'document/ep-02-07-01-fr.txt', 'document/ep-01-05-30-fr.txt', 'document/ep-01-10-03-fr.txt', 'document/ep-01-05-31-fr.txt', 'document/ep-00-03-13-fr.txt', 'document/ep-02-12-19-fr.txt', 'document/ep-05-12-14-fr.txt', 'document/ep-05-10-25-fr.txt', 'document/ep-05-05-09-fr.txt', 'document/ep-00-05-04-fr.txt', 'document/ep-02-02-28-fr.txt', 'document/ep-00-05-19-fr.txt', 'document/ep-01-04-05-fr.txt', 'document/ep-03-10-21-fr.txt', 'document/ep-05-01-12-fr.txt', 'document/ep-05-10-12-fr.txt', 'document/ep-05-11-30-fr.txt', 'document/ep-03-04-08-fr.txt', 'document/ep-02-10-09-fr.txt', 'document/ep-03-09-03-fr.txt', 'document/ep-01-07-03-fr.txt', 'document/ep-01-02-14-fr.txt', 'document/ep-05-09-07-fr.txt', 'document/ep-01-06-13-fr.txt', 'document/ep-03-02-10-fr.txt', 'document/ep-05-02-22-fr.txt', 'document/ep-00-05-15-fr.txt', 'document/ep-04-01-14-fr.txt', 'document/ep-04-02-25-fr.txt', 'document/ep-05-05-11-fr.txt', 'document/ep-04-12-16-fr.txt', 'document/ep-00-05-16-fr.txt', 'document/ep-04-10-13-fr.txt', 'document/ep-02-06-12-fr.txt', 'document/ep-02-09-05-fr.txt', 'document/ep-01-10-04-fr.txt', 'document/ep-05-09-27-fr.txt', 'document/ep-04-03-09-fr.txt', 'document/ep-00-12-11-fr.txt', 'document/ep-03-11-17-fr.txt', 'document/ep-05-09-06-fr.txt', 'document/ep-01-07-04-fr.txt', 'document/ep-03-11-20-fr.txt', 'document/ep-04-09-16-fr.txt', 'document/ep-02-10-24-fr.txt', 'document/ep-00-12-12-fr.txt', 'document/ep-05-06-22-fr.txt', 'document/ep-00-01-18-fr.txt', 'document/ep-00-06-13-fr.txt', 'document/ep-01-06-14-fr.txt', 'document/ep-00-05-03-fr.txt', 'document/ep-03-12-03-fr.txt', 'document/ep-02-03-13-fr.txt', 'document/ep-02-11-06-fr.txt', 'document/ep-05-12-15-fr.txt', 'document/ep-00-06-16-fr.txt', 'document/ep-01-01-17-fr.txt', 'document/ep-00-02-16-fr.txt', 'document/ep-03-06-02-fr.txt', 'document/ep-05-01-26-fr.txt', 'document/ep-02-07-03-fr.txt', 'document/ep-05-07-05-fr.txt', 'document/ep-02-05-14-fr.txt', 'document/ep-04-02-09-fr.txt', 'document/ep-03-02-11-fr.txt', 'document/ep-02-09-26-fr.txt', 'document/ep-04-01-12-fr.txt', 'document/ep-01-10-25-fr.txt', 'document/ep-00-05-17-fr.txt', 'document/ep-05-05-10-fr.txt', 'document/ep-05-10-26-fr.txt', 'document/ep-05-02-21-fr.txt', 'document/ep-01-09-19-fr.txt', 'document/ep-01-12-11-fr.txt', 'document/ep-02-09-23-fr.txt', 'document/ep-02-09-24-fr.txt', 'document/ep-02-05-13-fr.txt', 'document/ep-04-01-13-fr.txt', 'document/ep-03-01-15-fr.txt', 'document/ep-05-03-09-fr.txt', 'document/ep-04-10-27-fr.txt', 'document/ep-00-10-25-fr.txt', 'document/ep-00-07-04-fr.txt', 'document/ep-01-11-13-fr.txt', 'document/ep-03-04-09-fr.txt', 'document/ep-05-04-28-fr.txt', 'document/ep-00-10-23-fr.txt', 'document/ep-03-06-04-fr.txt', 'document/ep-05-04-12-fr.txt', 'document/ep-05-09-29-fr.txt', 'document/ep-03-03-13-fr.txt', 'document/ep-03-06-03-fr.txt', 'document/ep-02-11-19-fr.txt', 'document/ep-03-09-25-fr.txt', 'document/ep-00-10-04-fr.txt', 'document/ep-00-01-20-fr.txt', 'document/ep-05-06-09-fr.txt', 'document/ep-03-09-02-fr.txt', 'document/ep-02-07-02-fr.txt', 'document/ep-01-07-02-fr.txt', 'document/ep-04-10-26-fr.txt', 'document/ep-02-04-09-fr.txt', 'document/ep-02-10-10-fr.txt', 'document/ep-00-10-05-fr.txt', 'document/ep-03-05-15-fr.txt', 'document/ep-05-03-08-fr.txt', 'document/ep-05-01-10-fr.txt', 'document/ep-00-05-18-fr.txt', 'document/ep-02-04-08-fr.txt', 'document/ep-02-12-05-fr.txt', 'document/ep-02-04-10-fr.txt', 'document/ep-01-04-03-fr.txt', 'document/ep-05-11-17-fr.txt', 'document/ep-00-11-15-fr.txt', 'document/ep-05-03-07-fr.txt', 'document/ep-01-04-04-fr.txt', 'document/ep-00-11-30-fr.txt', 'document/ep-01-03-01-fr.txt', 'document/ep-05-01-13-fr.txt', 'document/ep-02-02-06-fr.txt', 'document/ep-01-05-16-fr.txt', 'document/ep-01-02-13-fr.txt', 'document/ep-00-04-11-fr.txt', 'document/ep-01-09-05-fr.txt', 'document/ep-02-12-16-fr.txt', 'document/ep-00-09-06-fr.txt', 'document/ep-00-07-05-fr.txt', 'document/ep-02-11-20-fr.txt', 'document/ep-01-07-05-fr.txt', 'document/ep-04-03-29-fr.txt', 'document/ep-02-09-02-fr.txt', 'document/ep-05-06-07-fr.txt', 'document/ep-02-03-12-fr.txt', 'document/ep-03-05-14-fr.txt', 'document/ep-03-10-22-fr.txt', 'document/ep-04-03-10-fr.txt', 'document/ep-05-11-15-fr.txt', 'document/ep-05-01-11-fr.txt', 'document/ep-00-04-12-fr.txt', 'document/ep-01-10-02-fr.txt', 'document/ep-01-12-10-fr.txt', 'document/ep-03-03-11-fr.txt', 'document/ep-02-02-07-fr.txt', 'document/ep-02-04-25-fr.txt', 'document/ep-04-03-30-fr.txt', 'document/ep-00-11-16-fr.txt', 'document/ep-04-04-19-fr.txt', 'document/ep-02-10-21-fr.txt', 'document/ep-02-02-05-fr.txt', 'document/ep-03-03-10-fr.txt', 'document/ep-04-09-15-fr.txt'}\n",
            "{'document/ep-02-10-22-fr.txt', 'document/ep-00-03-02-fr.txt', 'document/ep-03-04-07-fr.txt', 'document/ep-02-10-23-fr.txt', 'document/ep-03-10-09-fr.txt', 'document/ep-02-05-16-fr.txt', 'document/ep-05-04-13-fr.txt', 'document/ep-05-10-13-fr.txt', 'document/ep-04-02-10-fr.txt', 'document/ep-03-01-13-fr.txt', 'document/ep-00-04-13-fr.txt', 'document/ep-01-02-01-fr.txt', 'document/ep-05-02-23-fr.txt', 'document/ep-03-06-05-fr.txt', 'document/ep-03-01-16-fr.txt', 'document/ep-04-07-20-fr.txt', 'document/ep-05-04-27-fr.txt', 'document/ep-00-06-14-fr.txt', 'document/ep-00-12-14-fr.txt', 'document/ep-00-03-16-fr.txt', 'document/ep-03-05-13-fr.txt', 'document/ep-00-10-03-fr.txt', 'document/ep-00-11-13-fr.txt', 'document/ep-02-04-11-fr.txt', 'document/ep-05-11-16-fr.txt', 'document/ep-01-11-28-fr.txt', 'document/ep-03-07-03-fr.txt', 'document/ep-01-10-24-fr.txt', 'document/ep-04-01-29-fr.txt', 'document/ep-05-09-05-fr.txt', 'document/ep-05-09-08-fr.txt', 'document/ep-00-11-14-fr.txt', 'document/ep-00-03-30-fr.txt', 'document/ep-05-06-06-fr.txt', 'document/ep-00-02-17-fr.txt', 'document/ep-01-10-22-fr.txt', 'document/ep-02-06-13-fr.txt', 'document/ep-04-04-22-fr.txt', 'document/ep-01-10-03-fr.txt', 'document/ep-02-03-14-fr.txt', 'document/ep-00-03-13-fr.txt', 'document/ep-05-01-27-fr.txt', 'document/ep-05-12-14-fr.txt', 'document/ep-01-10-01-fr.txt', 'document/ep-03-10-21-fr.txt', 'document/ep-01-02-14-fr.txt', 'document/ep-00-11-29-fr.txt', 'document/ep-00-10-27-fr.txt', 'document/ep-04-02-25-fr.txt', 'document/ep-00-05-16-fr.txt', 'document/ep-03-11-17-fr.txt', 'document/ep-05-09-06-fr.txt', 'document/ep-02-03-13-fr.txt', 'document/ep-02-11-06-fr.txt', 'document/ep-00-06-16-fr.txt', 'document/ep-01-01-15-fr.txt', 'document/ep-02-09-26-fr.txt', 'document/ep-00-05-17-fr.txt', 'document/ep-05-05-10-fr.txt', 'document/ep-05-10-26-fr.txt', 'document/ep-02-09-23-fr.txt', 'document/ep-00-02-03-fr.txt', 'document/ep-03-09-25-fr.txt', 'document/ep-04-04-01-fr.txt', 'document/ep-00-01-20-fr.txt', 'document/ep-00-10-05-fr.txt', 'document/ep-03-05-15-fr.txt', 'document/ep-02-04-08-fr.txt', 'document/ep-01-04-03-fr.txt', 'document/ep-01-11-12-fr.txt', 'document/ep-05-05-25-fr.txt', 'document/ep-02-12-16-fr.txt', 'document/ep-02-11-20-fr.txt', 'document/ep-02-09-02-fr.txt', 'document/ep-03-10-22-fr.txt', 'document/ep-02-01-15-fr.txt', 'document/ep-05-11-17-fr.txt', 'document/ep-02-02-05-fr.txt', 'document/ep-01-03-15-fr.txt', 'document/ep-01-05-02-fr.txt', 'document/ep-01-02-15-fr.txt', 'document/ep-05-10-24-fr.txt', 'document/ep-00-10-06-fr.txt', 'document/ep-03-11-05-fr.txt', 'document/ep-04-05-03-fr.txt', 'document/ep-04-02-11-fr.txt', 'document/ep-05-06-08-fr.txt', 'document/ep-03-10-08-fr.txt', 'document/ep-03-12-16-fr.txt', 'document/ep-00-03-15-fr.txt', 'document/ep-00-07-07-fr.txt', 'document/ep-02-09-03-fr.txt', 'document/ep-05-09-26-fr.txt', 'document/ep-04-12-02-fr.txt', 'document/ep-00-12-13-fr.txt', 'document/ep-03-10-20-fr.txt', 'document/ep-04-09-13-fr.txt', 'document/ep-01-05-03-fr.txt', 'document/ep-01-12-13-fr.txt', 'document/ep-04-12-13-fr.txt', 'document/ep-04-10-28-fr.txt', 'document/ep-02-11-21-fr.txt', 'document/ep-00-09-04-fr.txt', 'document/ep-03-12-18-fr.txt', 'document/ep-04-07-21-fr.txt', 'document/ep-04-09-14-fr.txt', 'document/ep-00-10-02-fr.txt', 'document/ep-02-02-27-fr.txt', 'document/ep-04-01-15-fr.txt', 'document/ep-03-09-04-fr.txt', 'document/ep-02-09-25-fr.txt', 'document/ep-00-03-01-fr.txt', 'document/ep-02-12-17-fr.txt', 'document/ep-04-02-12-fr.txt', 'document/ep-01-02-12-fr.txt', 'document/ep-04-07-22-fr.txt', 'document/ep-02-12-19-fr.txt', 'document/ep-05-10-25-fr.txt', 'document/ep-05-05-09-fr.txt', 'document/ep-00-05-04-fr.txt', 'document/ep-00-07-03-fr.txt', 'document/ep-02-02-28-fr.txt', 'document/ep-00-05-19-fr.txt', 'document/ep-01-04-05-fr.txt', 'document/ep-05-10-12-fr.txt', 'document/ep-05-11-30-fr.txt', 'document/ep-00-04-10-fr.txt', 'document/ep-00-02-18-fr.txt', 'document/ep-04-12-01-fr.txt', 'document/ep-03-02-10-fr.txt', 'document/ep-05-05-11-fr.txt', 'document/ep-02-12-18-fr.txt', 'document/ep-02-07-04-fr.txt', 'document/ep-01-03-12-fr.txt', 'document/ep-04-03-09-fr.txt', 'document/ep-04-09-16-fr.txt', 'document/ep-04-05-04-fr.txt', 'document/ep-01-01-17-fr.txt', 'document/ep-00-02-16-fr.txt', 'document/ep-02-03-20-fr.txt', 'document/ep-02-05-14-fr.txt', 'document/ep-03-02-11-fr.txt', 'document/ep-04-01-12-fr.txt', 'document/ep-00-09-08-fr.txt', 'document/ep-02-09-24-fr.txt', 'document/ep-02-05-13-fr.txt', 'document/ep-05-03-09-fr.txt', 'document/ep-04-10-27-fr.txt', 'document/ep-01-11-13-fr.txt', 'document/ep-03-06-04-fr.txt', 'document/ep-05-04-12-fr.txt', 'document/ep-03-03-13-fr.txt', 'document/ep-05-06-09-fr.txt', 'document/ep-01-07-02-fr.txt', 'document/ep-02-04-09-fr.txt', 'document/ep-02-10-10-fr.txt', 'document/ep-05-01-10-fr.txt', 'document/ep-00-05-18-fr.txt', 'document/ep-04-05-05-fr.txt', 'document/ep-05-12-12-fr.txt', 'document/ep-00-11-15-fr.txt', 'document/ep-05-03-07-fr.txt', 'document/ep-01-04-04-fr.txt', 'document/ep-00-11-30-fr.txt', 'document/ep-03-09-01-fr.txt', 'document/ep-05-01-13-fr.txt', 'document/ep-02-02-06-fr.txt', 'document/ep-01-02-13-fr.txt', 'document/ep-00-09-06-fr.txt', 'document/ep-02-03-12-fr.txt', 'document/ep-03-05-14-fr.txt', 'document/ep-03-04-10-fr.txt', 'document/ep-02-02-04-fr.txt', 'document/ep-05-01-11-fr.txt', 'document/ep-01-12-10-fr.txt', 'document/ep-02-10-21-fr.txt', 'document/ep-00-04-14-fr.txt', 'document/ep-03-02-12-fr.txt', 'document/ep-04-11-17-fr.txt', 'document/ep-00-03-17-fr.txt', 'document/ep-05-12-01-fr.txt', 'document/ep-02-04-24-fr.txt', 'document/ep-01-11-29-fr.txt', 'document/ep-04-04-20-fr.txt', 'document/ep-03-07-01-fr.txt', 'document/ep-01-01-16-fr.txt', 'document/ep-01-09-03-fr.txt', 'document/ep-02-01-16-fr.txt', 'document/ep-00-01-21-fr.txt', 'document/ep-01-02-28-fr.txt', 'document/ep-04-12-14-fr.txt', 'document/ep-01-06-12-fr.txt', 'document/ep-03-03-12-fr.txt', 'document/ep-02-01-17-fr.txt', 'document/ep-03-01-30-fr.txt', 'document/ep-02-09-04-fr.txt', 'document/ep-04-12-15-fr.txt', 'document/ep-00-09-21-fr.txt', 'document/ep-03-12-17-fr.txt', 'document/ep-04-04-21-fr.txt', 'document/ep-00-07-06-fr.txt', 'document/ep-00-10-26-fr.txt', 'document/ep-03-11-06-fr.txt', 'document/ep-05-05-12-fr.txt', 'document/ep-03-01-14-fr.txt', 'document/ep-02-03-11-fr.txt', 'document/ep-05-07-07-fr.txt', 'document/ep-02-05-15-fr.txt', 'document/ep-03-10-23-fr.txt', 'document/ep-05-09-28-fr.txt', 'document/ep-02-06-11-fr.txt', 'document/ep-00-01-19-fr.txt', 'document/ep-03-06-18-fr.txt', 'document/ep-05-06-23-fr.txt', 'document/ep-03-11-19-fr.txt', 'document/ep-00-02-02-fr.txt', 'document/ep-04-03-31-fr.txt', 'document/ep-04-10-14-fr.txt', 'document/ep-00-02-15-fr.txt', 'document/ep-05-10-27-fr.txt', 'document/ep-00-03-14-fr.txt', 'document/ep-03-03-27-fr.txt', 'document/ep-01-01-31-fr.txt', 'document/ep-01-09-20-fr.txt', 'document/ep-04-03-08-fr.txt', 'document/ep-05-12-13-fr.txt', 'document/ep-01-09-04-fr.txt', 'document/ep-02-05-29-fr.txt', 'document/ep-01-05-14-fr.txt', 'document/ep-03-04-08-fr.txt', 'document/ep-04-11-16-fr.txt', 'document/ep-01-06-13-fr.txt', 'document/ep-05-02-22-fr.txt', 'document/ep-04-01-14-fr.txt', 'document/ep-04-12-16-fr.txt', 'document/ep-01-10-04-fr.txt', 'document/ep-05-09-27-fr.txt', 'document/ep-00-12-11-fr.txt', 'document/ep-00-01-18-fr.txt', 'document/ep-02-10-24-fr.txt', 'document/ep-03-11-18-fr.txt', 'document/ep-05-06-22-fr.txt', 'document/ep-00-06-13-fr.txt', 'document/ep-03-06-30-fr.txt', 'document/ep-00-05-03-fr.txt', 'document/ep-03-12-03-fr.txt', 'document/ep-05-12-15-fr.txt', 'document/ep-03-06-02-fr.txt', 'document/ep-05-07-05-fr.txt', 'document/ep-04-02-09-fr.txt', 'document/ep-01-10-25-fr.txt', 'document/ep-03-06-19-fr.txt', 'document/ep-05-02-21-fr.txt', 'document/ep-01-09-19-fr.txt', 'document/ep-01-01-18-fr.txt', 'document/ep-03-01-15-fr.txt', 'document/ep-05-04-28-fr.txt', 'document/ep-00-10-23-fr.txt', 'document/ep-05-09-29-fr.txt', 'document/ep-02-06-10-fr.txt', 'document/ep-00-10-04-fr.txt', 'document/ep-03-09-22-fr.txt', 'document/ep-02-07-02-fr.txt', 'document/ep-01-11-15-fr.txt', 'document/ep-00-09-05-fr.txt', 'document/ep-02-04-10-fr.txt', 'document/ep-05-04-11-fr.txt', 'document/ep-00-04-11-fr.txt', 'document/ep-01-09-05-fr.txt', 'document/ep-00-07-05-fr.txt', 'document/ep-01-07-05-fr.txt', 'document/ep-04-03-29-fr.txt', 'document/ep-04-03-10-fr.txt', 'document/ep-00-04-12-fr.txt', 'document/ep-02-02-07-fr.txt', 'document/ep-00-11-16-fr.txt', 'document/ep-04-09-15-fr.txt', 'document/ep-02-12-04-fr.txt', 'document/ep-05-07-06-fr.txt', 'document/ep-01-03-13-fr.txt', 'document/ep-00-03-29-fr.txt', 'document/ep-01-09-06-fr.txt', 'document/ep-03-09-23-fr.txt', 'document/ep-00-10-24-fr.txt', 'document/ep-01-10-23-fr.txt', 'document/ep-05-03-10-fr.txt', 'document/ep-01-11-14-fr.txt', 'document/ep-01-12-17-fr.txt', 'document/ep-03-03-20-fr.txt', 'document/ep-00-11-17-fr.txt', 'document/ep-00-01-17-fr.txt', 'document/ep-02-11-18-fr.txt', 'document/ep-01-05-17-fr.txt', 'document/ep-05-11-14-fr.txt', 'document/ep-02-05-30-fr.txt', 'document/ep-05-07-04-fr.txt', 'document/ep-03-07-02-fr.txt', 'document/ep-00-02-14-fr.txt', 'document/ep-05-04-14-fr.txt', 'document/ep-03-09-24-fr.txt', 'document/ep-03-02-13-fr.txt', 'document/ep-03-12-04-fr.txt', 'document/ep-04-02-26-fr.txt', 'document/ep-04-10-25-fr.txt', 'document/ep-00-09-20-fr.txt', 'document/ep-04-11-18-fr.txt', 'document/ep-00-06-15-fr.txt', 'document/ep-04-03-11-fr.txt', 'document/ep-01-03-14-fr.txt', 'document/ep-04-01-28-fr.txt', 'document/ep-01-09-12-fr.txt', 'document/ep-03-12-15-fr.txt', 'document/ep-01-05-30-fr.txt', 'document/ep-02-07-01-fr.txt', 'document/ep-01-05-31-fr.txt', 'document/ep-05-01-12-fr.txt', 'document/ep-02-01-14-fr.txt', 'document/ep-03-03-26-fr.txt', 'document/ep-02-10-09-fr.txt', 'document/ep-03-09-03-fr.txt', 'document/ep-01-07-03-fr.txt', 'document/ep-05-05-26-fr.txt', 'document/ep-05-09-07-fr.txt', 'document/ep-00-05-15-fr.txt', 'document/ep-02-06-12-fr.txt', 'document/ep-04-10-13-fr.txt', 'document/ep-02-09-05-fr.txt', 'document/ep-03-11-20-fr.txt', 'document/ep-01-07-04-fr.txt', 'document/ep-00-12-12-fr.txt', 'document/ep-01-06-14-fr.txt', 'document/ep-03-05-12-fr.txt', 'document/ep-01-06-11-fr.txt', 'document/ep-05-01-26-fr.txt', 'document/ep-02-07-03-fr.txt', 'document/ep-01-12-11-fr.txt', 'document/ep-04-01-13-fr.txt', 'document/ep-00-07-04-fr.txt', 'document/ep-00-10-25-fr.txt', 'document/ep-03-04-09-fr.txt', 'document/ep-00-12-15-fr.txt', 'document/ep-05-02-24-fr.txt', 'document/ep-03-01-29-fr.txt', 'document/ep-03-06-03-fr.txt', 'document/ep-02-11-19-fr.txt', 'document/ep-04-11-15-fr.txt', 'document/ep-03-09-02-fr.txt', 'document/ep-04-10-26-fr.txt', 'document/ep-05-03-08-fr.txt', 'document/ep-02-12-05-fr.txt', 'document/ep-01-03-01-fr.txt', 'document/ep-01-04-02-fr.txt', 'document/ep-01-05-16-fr.txt', 'document/ep-01-12-12-fr.txt', 'document/ep-05-06-07-fr.txt', 'document/ep-05-11-15-fr.txt', 'document/ep-01-10-02-fr.txt', 'document/ep-03-03-11-fr.txt', 'document/ep-02-04-25-fr.txt', 'document/ep-04-03-30-fr.txt', 'document/ep-00-09-07-fr.txt', 'document/ep-04-04-19-fr.txt', 'document/ep-03-03-10-fr.txt'}\n",
            "{'document/ep-02-10-22-fr.txt', 'document/ep-00-01-18-fr.txt'}\n"
          ]
        }
      ]
    }
  ]
}